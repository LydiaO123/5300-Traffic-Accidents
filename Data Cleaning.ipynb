{
 "cells": [
  {
   "cell_type": "code",
   "execution_count": 11,
   "metadata": {},
   "outputs": [],
   "source": [
    "#Data retrieved from https://www.kaggle.com/sobhanmoosavi/us-accidents"
   ]
  },
  {
   "cell_type": "code",
   "execution_count": 12,
   "metadata": {},
   "outputs": [],
   "source": [
    "import pandas as pd\n",
    "import numpy as np"
   ]
  },
  {
   "cell_type": "code",
   "execution_count": 13,
   "metadata": {},
   "outputs": [
    {
     "data": {
      "text/html": [
       "<div>\n",
       "<style scoped>\n",
       "    .dataframe tbody tr th:only-of-type {\n",
       "        vertical-align: middle;\n",
       "    }\n",
       "\n",
       "    .dataframe tbody tr th {\n",
       "        vertical-align: top;\n",
       "    }\n",
       "\n",
       "    .dataframe thead th {\n",
       "        text-align: right;\n",
       "    }\n",
       "</style>\n",
       "<table border=\"1\" class=\"dataframe\">\n",
       "  <thead>\n",
       "    <tr style=\"text-align: right;\">\n",
       "      <th></th>\n",
       "      <th>ID</th>\n",
       "      <th>Severity</th>\n",
       "      <th>Start_Time</th>\n",
       "      <th>End_Time</th>\n",
       "      <th>Start_Lat</th>\n",
       "      <th>Start_Lng</th>\n",
       "      <th>End_Lat</th>\n",
       "      <th>End_Lng</th>\n",
       "      <th>Distance(mi)</th>\n",
       "      <th>Description</th>\n",
       "      <th>...</th>\n",
       "      <th>Roundabout</th>\n",
       "      <th>Station</th>\n",
       "      <th>Stop</th>\n",
       "      <th>Traffic_Calming</th>\n",
       "      <th>Traffic_Signal</th>\n",
       "      <th>Turning_Loop</th>\n",
       "      <th>Sunrise_Sunset</th>\n",
       "      <th>Civil_Twilight</th>\n",
       "      <th>Nautical_Twilight</th>\n",
       "      <th>Astronomical_Twilight</th>\n",
       "    </tr>\n",
       "  </thead>\n",
       "  <tbody>\n",
       "    <tr>\n",
       "      <th>0</th>\n",
       "      <td>A-1</td>\n",
       "      <td>2</td>\n",
       "      <td>2019-05-21 08:29:55</td>\n",
       "      <td>2019-05-21 09:29:40</td>\n",
       "      <td>34.808868</td>\n",
       "      <td>-82.269157</td>\n",
       "      <td>34.808868</td>\n",
       "      <td>-82.269157</td>\n",
       "      <td>0.0</td>\n",
       "      <td>Accident on Tanner Rd at Pennbrooke Ln.</td>\n",
       "      <td>...</td>\n",
       "      <td>False</td>\n",
       "      <td>False</td>\n",
       "      <td>False</td>\n",
       "      <td>False</td>\n",
       "      <td>False</td>\n",
       "      <td>False</td>\n",
       "      <td>Day</td>\n",
       "      <td>Day</td>\n",
       "      <td>Day</td>\n",
       "      <td>Day</td>\n",
       "    </tr>\n",
       "    <tr>\n",
       "      <th>1</th>\n",
       "      <td>A-2</td>\n",
       "      <td>2</td>\n",
       "      <td>2019-10-07 17:43:09</td>\n",
       "      <td>2019-10-07 19:42:50</td>\n",
       "      <td>35.090080</td>\n",
       "      <td>-80.745560</td>\n",
       "      <td>35.090080</td>\n",
       "      <td>-80.745560</td>\n",
       "      <td>0.0</td>\n",
       "      <td>Accident on Houston Branch Rd at Providence Br...</td>\n",
       "      <td>...</td>\n",
       "      <td>False</td>\n",
       "      <td>False</td>\n",
       "      <td>False</td>\n",
       "      <td>False</td>\n",
       "      <td>False</td>\n",
       "      <td>False</td>\n",
       "      <td>Day</td>\n",
       "      <td>Day</td>\n",
       "      <td>Day</td>\n",
       "      <td>Day</td>\n",
       "    </tr>\n",
       "    <tr>\n",
       "      <th>2</th>\n",
       "      <td>A-3</td>\n",
       "      <td>2</td>\n",
       "      <td>2020-12-13 21:53:00</td>\n",
       "      <td>2020-12-13 22:44:00</td>\n",
       "      <td>37.145730</td>\n",
       "      <td>-121.985052</td>\n",
       "      <td>37.165850</td>\n",
       "      <td>-121.988062</td>\n",
       "      <td>1.4</td>\n",
       "      <td>Stationary traffic on CA-17 from Summit Rd (CA...</td>\n",
       "      <td>...</td>\n",
       "      <td>False</td>\n",
       "      <td>False</td>\n",
       "      <td>False</td>\n",
       "      <td>False</td>\n",
       "      <td>False</td>\n",
       "      <td>False</td>\n",
       "      <td>Night</td>\n",
       "      <td>Night</td>\n",
       "      <td>Night</td>\n",
       "      <td>Night</td>\n",
       "    </tr>\n",
       "    <tr>\n",
       "      <th>3</th>\n",
       "      <td>A-4</td>\n",
       "      <td>2</td>\n",
       "      <td>2018-04-17 16:51:23</td>\n",
       "      <td>2018-04-17 17:50:46</td>\n",
       "      <td>39.110390</td>\n",
       "      <td>-119.773781</td>\n",
       "      <td>39.110390</td>\n",
       "      <td>-119.773781</td>\n",
       "      <td>0.0</td>\n",
       "      <td>Accident on US-395 Southbound at Topsy Ln.</td>\n",
       "      <td>...</td>\n",
       "      <td>False</td>\n",
       "      <td>False</td>\n",
       "      <td>False</td>\n",
       "      <td>False</td>\n",
       "      <td>True</td>\n",
       "      <td>False</td>\n",
       "      <td>Day</td>\n",
       "      <td>Day</td>\n",
       "      <td>Day</td>\n",
       "      <td>Day</td>\n",
       "    </tr>\n",
       "    <tr>\n",
       "      <th>4</th>\n",
       "      <td>A-5</td>\n",
       "      <td>3</td>\n",
       "      <td>2016-08-31 17:40:49</td>\n",
       "      <td>2016-08-31 18:10:49</td>\n",
       "      <td>26.102942</td>\n",
       "      <td>-80.265091</td>\n",
       "      <td>26.102942</td>\n",
       "      <td>-80.265091</td>\n",
       "      <td>0.0</td>\n",
       "      <td>Accident on I-595 Westbound at Exit 4 / Pine I...</td>\n",
       "      <td>...</td>\n",
       "      <td>False</td>\n",
       "      <td>False</td>\n",
       "      <td>False</td>\n",
       "      <td>False</td>\n",
       "      <td>True</td>\n",
       "      <td>False</td>\n",
       "      <td>Day</td>\n",
       "      <td>Day</td>\n",
       "      <td>Day</td>\n",
       "      <td>Day</td>\n",
       "    </tr>\n",
       "  </tbody>\n",
       "</table>\n",
       "<p>5 rows × 47 columns</p>\n",
       "</div>"
      ],
      "text/plain": [
       "    ID  Severity           Start_Time             End_Time  Start_Lat  \\\n",
       "0  A-1         2  2019-05-21 08:29:55  2019-05-21 09:29:40  34.808868   \n",
       "1  A-2         2  2019-10-07 17:43:09  2019-10-07 19:42:50  35.090080   \n",
       "2  A-3         2  2020-12-13 21:53:00  2020-12-13 22:44:00  37.145730   \n",
       "3  A-4         2  2018-04-17 16:51:23  2018-04-17 17:50:46  39.110390   \n",
       "4  A-5         3  2016-08-31 17:40:49  2016-08-31 18:10:49  26.102942   \n",
       "\n",
       "    Start_Lng    End_Lat     End_Lng  Distance(mi)  \\\n",
       "0  -82.269157  34.808868  -82.269157           0.0   \n",
       "1  -80.745560  35.090080  -80.745560           0.0   \n",
       "2 -121.985052  37.165850 -121.988062           1.4   \n",
       "3 -119.773781  39.110390 -119.773781           0.0   \n",
       "4  -80.265091  26.102942  -80.265091           0.0   \n",
       "\n",
       "                                         Description  ...  Roundabout Station  \\\n",
       "0            Accident on Tanner Rd at Pennbrooke Ln.  ...       False   False   \n",
       "1  Accident on Houston Branch Rd at Providence Br...  ...       False   False   \n",
       "2  Stationary traffic on CA-17 from Summit Rd (CA...  ...       False   False   \n",
       "3         Accident on US-395 Southbound at Topsy Ln.  ...       False   False   \n",
       "4  Accident on I-595 Westbound at Exit 4 / Pine I...  ...       False   False   \n",
       "\n",
       "    Stop Traffic_Calming Traffic_Signal Turning_Loop Sunrise_Sunset  \\\n",
       "0  False           False          False        False            Day   \n",
       "1  False           False          False        False            Day   \n",
       "2  False           False          False        False          Night   \n",
       "3  False           False           True        False            Day   \n",
       "4  False           False           True        False            Day   \n",
       "\n",
       "  Civil_Twilight Nautical_Twilight Astronomical_Twilight  \n",
       "0            Day               Day                   Day  \n",
       "1            Day               Day                   Day  \n",
       "2          Night             Night                 Night  \n",
       "3            Day               Day                   Day  \n",
       "4            Day               Day                   Day  \n",
       "\n",
       "[5 rows x 47 columns]"
      ]
     },
     "execution_count": 13,
     "metadata": {},
     "output_type": "execute_result"
    }
   ],
   "source": [
    "#Import data\n",
    "df = pd.read_csv('US_Accidents_Dec20_Updated.csv')\n",
    "df.head()"
   ]
  },
  {
   "cell_type": "code",
   "execution_count": 14,
   "metadata": {},
   "outputs": [
    {
     "name": "stdout",
     "output_type": "stream",
     "text": [
      "(2906610, 47)\n"
     ]
    }
   ],
   "source": [
    "print(df.shape)"
   ]
  },
  {
   "cell_type": "code",
   "execution_count": 15,
   "metadata": {},
   "outputs": [
    {
     "data": {
      "text/plain": [
       "ID                             0\n",
       "Severity                       0\n",
       "Start_Time                     0\n",
       "End_Time                       0\n",
       "Start_Lat                      0\n",
       "Start_Lng                      0\n",
       "End_Lat                   282821\n",
       "End_Lng                   282821\n",
       "Distance(mi)                   0\n",
       "Description                    0\n",
       "Number                   1891672\n",
       "Street                         0\n",
       "Side                           0\n",
       "City                         108\n",
       "County                         0\n",
       "State                          0\n",
       "Zipcode                     1114\n",
       "Country                        0\n",
       "Timezone                    3430\n",
       "Airport_Code                6608\n",
       "Weather_Timestamp          46917\n",
       "Temperature(F)             67224\n",
       "Wind_Chill(F)            1183859\n",
       "Humidity(%)                71270\n",
       "Pressure(in)               56908\n",
       "Visibility(mi)             72078\n",
       "Wind_Direction             63474\n",
       "Wind_Speed(mph)           307163\n",
       "Precipitation(in)        1301326\n",
       "Weather_Condition          71851\n",
       "Amenity                        0\n",
       "Bump                           0\n",
       "Crossing                       0\n",
       "Give_Way                       0\n",
       "Junction                       0\n",
       "No_Exit                        0\n",
       "Railway                        0\n",
       "Roundabout                     0\n",
       "Station                        0\n",
       "Stop                           0\n",
       "Traffic_Calming                0\n",
       "Traffic_Signal                 0\n",
       "Turning_Loop                   0\n",
       "Sunrise_Sunset               110\n",
       "Civil_Twilight               110\n",
       "Nautical_Twilight            110\n",
       "Astronomical_Twilight        110\n",
       "dtype: int64"
      ]
     },
     "execution_count": 15,
     "metadata": {},
     "output_type": "execute_result"
    }
   ],
   "source": [
    "#Check for null values\n",
    "pd.isnull(df).sum()"
   ]
  },
  {
   "cell_type": "code",
   "execution_count": 16,
   "metadata": {},
   "outputs": [],
   "source": [
    "#Drop unnecessary columns\n",
    "to_drop = ['End_Lat', 'End_Lng', 'Description', 'Number', 'Side', 'City', 'Zipcode', 'Country', 'Timezone', \n",
    "           'Airport_Code', 'Weather_Timestamp']\n",
    "\n",
    "df.drop(columns=to_drop, inplace=True, axis=1)"
   ]
  },
  {
   "cell_type": "code",
   "execution_count": 19,
   "metadata": {},
   "outputs": [
    {
     "name": "stdout",
     "output_type": "stream",
     "text": [
      "(2906610, 36)\n"
     ]
    }
   ],
   "source": [
    "print(df.shape)"
   ]
  },
  {
   "cell_type": "code",
   "execution_count": 20,
   "metadata": {},
   "outputs": [
    {
     "data": {
      "text/plain": [
       "True"
      ]
     },
     "execution_count": 20,
     "metadata": {},
     "output_type": "execute_result"
    }
   ],
   "source": [
    "#Check that the identifier is unique\n",
    "df['ID'].is_unique"
   ]
  },
  {
   "cell_type": "code",
   "execution_count": 21,
   "metadata": {},
   "outputs": [],
   "source": [
    "#Set ID as index\n",
    "df = df.set_index('ID')"
   ]
  },
  {
   "cell_type": "code",
   "execution_count": 22,
   "metadata": {},
   "outputs": [
    {
     "data": {
      "text/plain": [
       "array([2, 3, 4, 1], dtype=int64)"
      ]
     },
     "execution_count": 22,
     "metadata": {},
     "output_type": "execute_result"
    }
   ],
   "source": [
    "df['Severity'].unique()"
   ]
  },
  {
   "cell_type": "code",
   "execution_count": 24,
   "metadata": {},
   "outputs": [
    {
     "data": {
      "text/plain": [
       "1729"
      ]
     },
     "execution_count": 24,
     "metadata": {},
     "output_type": "execute_result"
    }
   ],
   "source": [
    "#Number of unique cities\n",
    "df['County'].nunique()"
   ]
  },
  {
   "cell_type": "code",
   "execution_count": 25,
   "metadata": {},
   "outputs": [
    {
     "data": {
      "text/plain": [
       "49"
      ]
     },
     "execution_count": 25,
     "metadata": {},
     "output_type": "execute_result"
    }
   ],
   "source": [
    "#Number of unique zip codes\n",
    "df['State'].nunique()"
   ]
  },
  {
   "cell_type": "code",
   "execution_count": 26,
   "metadata": {},
   "outputs": [],
   "source": [
    "#Change True?False values so that True=1 and False=0\n",
    "df[\"Amenity\"] = df[\"Amenity\"].astype(int)\n",
    "df[\"Bump\"] = df[\"Bump\"].astype(int)\n",
    "df[\"Crossing\"] = df[\"Crossing\"].astype(int)\n",
    "df[\"Give_Way\"] = df[\"Give_Way\"].astype(int)\n",
    "df[\"Junction\"] = df[\"Junction\"].astype(int)\n",
    "df[\"No_Exit\"] = df[\"No_Exit\"].astype(int)\n",
    "df[\"Railway\"] = df[\"Railway\"].astype(int)\n",
    "df[\"Roundabout\"] = df[\"Roundabout\"].astype(int)\n",
    "df[\"Station\"] = df[\"Station\"].astype(int)\n",
    "df[\"Stop\"] = df[\"Stop\"].astype(int)\n",
    "df[\"Traffic_Calming\"] = df[\"Traffic_Calming\"].astype(int)\n",
    "df[\"Traffic_Signal\"] = df[\"Traffic_Signal\"].astype(int)\n",
    "df[\"Turning_Loop\"] = df[\"Turning_Loop\"].astype(int)"
   ]
  },
  {
   "cell_type": "code",
   "execution_count": 27,
   "metadata": {},
   "outputs": [],
   "source": [
    "df.to_csv('US_Traffic_Data_Cleaned.csv')"
   ]
  },
  {
   "cell_type": "code",
   "execution_count": null,
   "metadata": {},
   "outputs": [],
   "source": []
  }
 ],
 "metadata": {
  "kernelspec": {
   "display_name": "Python 3",
   "language": "python",
   "name": "python3"
  },
  "language_info": {
   "codemirror_mode": {
    "name": "ipython",
    "version": 3
   },
   "file_extension": ".py",
   "mimetype": "text/x-python",
   "name": "python",
   "nbconvert_exporter": "python",
   "pygments_lexer": "ipython3",
   "version": "3.8.5"
  }
 },
 "nbformat": 4,
 "nbformat_minor": 4
}
